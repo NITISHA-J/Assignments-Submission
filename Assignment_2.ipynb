{
  "nbformat": 4,
  "nbformat_minor": 0,
  "metadata": {
    "colab": {
      "name": "Assignment 2.ipynb",
      "provenance": [],
      "collapsed_sections": []
    },
    "kernelspec": {
      "name": "python3",
      "display_name": "Python 3"
    },
    "language_info": {
      "name": "python"
    }
  },
  "cells": [
    {
      "cell_type": "code",
      "metadata": {
        "id": "aWpojfjzWf1s"
      },
      "source": [
        "list = []\n",
        "maximum_participant = 5\n",
        "for i in range(maximum_participant):\n",
        "  list[i] = (input(\"Enter name to be added \"))\n",
        "print(list)\n",
        "\n",
        "import random\n",
        "winner = random.randint(0,maximum_participant - 1)\n",
        "print(\"Winner is\",list[winner])"
      ],
      "execution_count": null,
      "outputs": []
    }
  ]
}