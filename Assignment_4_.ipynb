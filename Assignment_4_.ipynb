{
  "nbformat": 4,
  "nbformat_minor": 0,
  "metadata": {
    "colab": {
      "name": "Assignment 4 .ipynb",
      "provenance": [],
      "collapsed_sections": []
    },
    "kernelspec": {
      "name": "python3",
      "display_name": "Python 3"
    },
    "language_info": {
      "name": "python"
    }
  },
  "cells": [
    {
      "cell_type": "code",
      "metadata": {
        "id": "aWpojfjzWf1s",
        "colab": {
          "base_uri": "https://localhost:8080/"
        },
        "outputId": "d61b5599-160a-4473-989d-0bc492910f27"
      },
      "source": [
        "alt = int( input(\"What is the altitude in ft :- \") )\n",
        "\n",
        "if alt <= 1000 :\n",
        "  print(\"Safe to land!!!\")\n",
        "elif alt > 1000 and alt <= 5000 :\n",
        "  print(\"Bring down to 1000 ft. !!!\")\n",
        "else :\n",
        "  print(\"Turn around,Try Later!!!!\")"
      ],
      "execution_count": 4,
      "outputs": [
        {
          "output_type": "stream",
          "text": [
            "What is the altitude in ft :- 6500\n",
            "Turn around,Try Later!!!!\n"
          ],
          "name": "stdout"
        }
      ]
    }
  ]
}