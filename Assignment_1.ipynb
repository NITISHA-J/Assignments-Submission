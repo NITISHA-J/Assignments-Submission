{
  "nbformat": 4,
  "nbformat_minor": 0,
  "metadata": {
    "colab": {
      "name": "Assignment 1.ipynb",
      "provenance": [],
      "collapsed_sections": [],
      "authorship_tag": "ABX9TyNGY1UMvuAtITDt+psXsPN2",
      "include_colab_link": true
    },
    "kernelspec": {
      "name": "python3",
      "display_name": "Python 3"
    },
    "language_info": {
      "name": "python"
    }
  },
  "cells": [
    {
      "cell_type": "markdown",
      "metadata": {
        "id": "view-in-github",
        "colab_type": "text"
      },
      "source": [
        "<a href=\"https://colab.research.google.com/github/NITISHA-J/Assignments-Submission/blob/main/Assignment_1.ipynb\" target=\"_parent\"><img src=\"https://colab.research.google.com/assets/colab-badge.svg\" alt=\"Open In Colab\"/></a>"
      ]
    },
    {
      "cell_type": "code",
      "metadata": {
        "colab": {
          "base_uri": "https://localhost:8080/"
        },
        "id": "aWpojfjzWf1s",
        "outputId": "1076bde4-df26-4da5-8603-9095d4068fd5"
      },
      "source": [
        "a = int(input(\"Enter First Number \"))\n",
        "b = int(input(\"Enter Second Number \"))\n",
        "sub = a - b\n",
        "mul = a * b\n",
        "div = a / b\n",
        "print(\"Our Subtraction is \", sub)\n",
        "print(\"Our Multiplication is \", mul)\n",
        "print(\"Our Division is \", div) "
      ],
      "execution_count": null,
      "outputs": [
        {
          "output_type": "stream",
          "text": [
            "Enter First Number 50\n",
            "Enter Second Number 40\n",
            "Our Subtraction is  10\n",
            "Our Multiplication is  2000\n",
            "Our Division is  1.25\n"
          ],
          "name": "stdout"
        }
      ]
    }
  ]
}